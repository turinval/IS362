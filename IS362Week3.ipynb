{
 "cells": [
  {
   "cell_type": "markdown",
   "id": "1ffca4ab-8709-47d0-85e6-63e98a4894cd",
   "metadata": {},
   "source": [
    "<h1> IS362 Week 3 Assignment </h1>\n",
    "\n",
    "<h2> While on a bike trip from NY to Florida\n",
    "The miles per day are logged for an estimated 63 days travel time</h2>"
   ]
  },
  {
   "cell_type": "code",
   "execution_count": 34,
   "id": "9819f69d-84e2-476d-8a9b-9eb0a301bf14",
   "metadata": {
    "tags": []
   },
   "outputs": [
    {
     "name": "stdout",
     "output_type": "stream",
     "text": [
      "2023-01-01    46\n",
      "2023-01-02    56\n",
      "2023-01-03    61\n",
      "2023-01-04    46\n",
      "2023-01-05    57\n",
      "              ..\n",
      "2023-02-28    51\n",
      "2023-03-01    62\n",
      "2023-03-02    51\n",
      "2023-03-03    55\n",
      "2023-03-04    61\n",
      "Length: 63, dtype: int32\n"
     ]
    }
   ],
   "source": [
    "import pandas as pd\n",
    "import numpy as np\n",
    "import datetime\n",
    "# simple array.Assuming I can bike between 40 to 66 miles a day, then generate an array using random numbers.\n",
    "data = numpy.random.randint(40,66,size=63)\n",
    "#Create 63 days without typing each day out.\n",
    "datearr=np.arange(np.datetime64('2023-01-01'), np.datetime64('2023-03-05'))\n",
    "#Create an array in pandas that can be summarized.\n",
    "ser = pd.Series(data, datearr)\n",
    "print(ser)"
   ]
  },
  {
   "cell_type": "markdown",
   "id": "de1b448b-9547-49e4-b259-38f7384b898e",
   "metadata": {},
   "source": [
    "<h1>Summarize the bike ride from NY to Florida</h1>"
   ]
  },
  {
   "cell_type": "code",
   "execution_count": 36,
   "id": "6987c62b-1a73-4579-a6fc-7213aefbf7a0",
   "metadata": {
    "tags": []
   },
   "outputs": [
    {
     "data": {
      "text/plain": [
       "count    63.000000\n",
       "mean     52.698413\n",
       "std       7.452289\n",
       "min      40.000000\n",
       "25%      46.000000\n",
       "50%      53.000000\n",
       "75%      60.000000\n",
       "max      64.000000\n",
       "dtype: float64"
      ]
     },
     "execution_count": 36,
     "metadata": {},
     "output_type": "execute_result"
    }
   ],
   "source": [
    "ser.describe()"
   ]
  },
  {
   "cell_type": "code",
   "execution_count": null,
   "id": "73a19f80-ad28-48fa-b3b8-2aeb5c651bdd",
   "metadata": {},
   "outputs": [],
   "source": []
  }
 ],
 "metadata": {
  "kernelspec": {
   "display_name": "Python 3 (ipykernel)",
   "language": "python",
   "name": "python3"
  },
  "language_info": {
   "codemirror_mode": {
    "name": "ipython",
    "version": 3
   },
   "file_extension": ".py",
   "mimetype": "text/x-python",
   "name": "python",
   "nbconvert_exporter": "python",
   "pygments_lexer": "ipython3",
   "version": "3.11.5"
  }
 },
 "nbformat": 4,
 "nbformat_minor": 5
}
