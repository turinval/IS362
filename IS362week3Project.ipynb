{
 "cells": [
  {
   "cell_type": "markdown",
   "id": "1ffca4ab-8709-47d0-85e6-63e98a4894cd",
   "metadata": {},
   "source": [
    "<h1> IS362 Week 3 Project </h1>\n",
    "\n",
    "<h2> Compare flight delays for airlines. </h2>\n",
    "\n",
    "<h3> Create CSV file with airlines, airports, and arrival delays</h3>\n",
    "<h3>\n",
    "Select flights.carrier, airlines.name, DATE(concat_ws('-',year,month,day)) as 'Date', origin as 'Origin',a1.name, dest as 'Destination', a2.name, arr_delay as \"Arrival Delay\"  from flights \n",
    "left join airports a1 on flights.origin= a1.faa\n",
    "left join airports a2 on flights.dest=a2.faa\n",
    "left join airlines on flights.carrier=airlines.carrier</h3>\n",
    "\n",
    "<h4> Summarize this csv file basic statistics.</h4>"
   ]
  },
  {
   "cell_type": "code",
   "execution_count": 29,
   "id": "9819f69d-84e2-476d-8a9b-9eb0a301bf14",
   "metadata": {
    "scrolled": true,
    "tags": []
   },
   "outputs": [
    {
     "name": "stdout",
     "output_type": "stream",
     "text": [
      "                              Arrival Delay                           \n",
      "                                       mean     sum   min    max count\n",
      "name                                                                  \n",
      "AirTran Airways Corporation\\r      6.833333    82.0  -7.0   23.0    12\n",
      "Alaska Airlines Inc.\\r           -23.333333   -70.0 -41.0  -10.0     3\n",
      "American Airlines Inc.\\r           9.830357  1101.0 -39.0  246.0   112\n",
      "Delta Air Lines Inc.\\r            -7.286765  -991.0 -59.0   81.0   136\n",
      "Endeavor Air Inc.\\r               11.300000   339.0 -33.0  250.0    30\n",
      "Envoy Air\\r                       31.523810  2648.0 -32.0  851.0    84\n",
      "ExpressJet Airlines Inc.\\r        38.301587  4826.0 -27.0  456.0   126\n",
      "Frontier Airlines Inc.\\r          13.000000    26.0  -6.0   32.0     2\n",
      "Hawaiian Airlines Inc.\\r         -14.000000   -14.0 -14.0  -14.0     1\n",
      "JetBlue Airways\\r                  8.098446  1563.0 -30.0  154.0   193\n",
      "Southwest Airlines Co.\\r          15.969697   527.0 -19.0   65.0    33\n",
      "US Airways Inc.\\r                  2.604651   112.0 -29.0   39.0    43\n",
      "United Air Lines Inc.\\r            4.615000   923.0 -52.0  145.0   200\n",
      "Virgin America\\r                 -14.857143  -208.0 -40.0    9.0    14\n"
     ]
    }
   ],
   "source": [
    "import pandas as pd\n",
    "import numpy as np\n",
    "# Load CSV file\n",
    "datafile = r\"C:\\Users\\turin\\Downloads\\IS362week3Pdata.csv\"\n",
    "#Read Data File.\n",
    "df= pd.read_csv(datafile)\n",
    "#Create a Dataframe\n",
    "df1= pd.DataFrame(df)\n",
    "#See all carriers. In order to rename all the carriers.\n",
    "dfair= (df1[['carrier']].to_string(index=False)) #print(dfair)\n",
    "# print(ALLSUMMARY)\n",
    "#Replace carrier code of two letters with full name.  \n",
    "rename_dict = {'9E' : 'Endeavor Air Inc.',\n",
    "'AA' : 'American Airlines Inc.',\n",
    "'AS' : 'Alaska Airlines Inc.',\n",
    "'B6': 'JetBlue Airways',\n",
    "'DL': 'Delta Air Lines Inc.',\n",
    "'EV': 'ExpressJet Airlines Inc.',\n",
    "'F9': 'Frontier Airlines Inc.',\n",
    "'FL':'AirTran Airways Corporation',\n",
    "'HA':'Hawaiian Airlines Inc.',\n",
    "'MQ':'Envoy Air',\n",
    "'OO':'SkyWest Airlines Inc.',\n",
    "'UA':'United Air Lines Inc.',\n",
    "'US':'US Airways Inc.',\n",
    "'VX':'Virgin America',\n",
    "'WN':'Southwest Airlines Co.',\n",
    "'YV':'Mesa Airlines Inc.'}\n",
    "df2=df1.rename({'carrier': rename_dict}, inplace=True)\n",
    "#See a summary of the data based on carrier.\n",
    "ALLSUMMARY= df1.groupby(['name']).agg({'Arrival Delay':['mean','sum','min', 'max', 'count']})\n",
    "print(ALLSUMMARY)"
   ]
  },
  {
   "cell_type": "markdown",
   "id": "de1b448b-9547-49e4-b259-38f7384b898e",
   "metadata": {},
   "source": []
  },
  {
   "cell_type": "markdown",
   "id": "d9addf9a",
   "metadata": {},
   "source": [
    "<h1> Show count of all flights from all airlines that were on time."
   ]
  },
  {
   "cell_type": "code",
   "execution_count": 31,
   "id": "73a19f80-ad28-48fa-b3b8-2aeb5c651bdd",
   "metadata": {},
   "outputs": [
    {
     "name": "stdout",
     "output_type": "stream",
     "text": [
      "                             name  count\n",
      "0   AirTran Airways Corporation\\r      2\n",
      "1          Alaska Airlines Inc.\\r      3\n",
      "2        American Airlines Inc.\\r     47\n",
      "3          Delta Air Lines Inc.\\r     95\n",
      "4             Endeavor Air Inc.\\r     15\n",
      "5                     Envoy Air\\r     24\n",
      "6      ExpressJet Airlines Inc.\\r     37\n",
      "7        Frontier Airlines Inc.\\r      1\n",
      "8        Hawaiian Airlines Inc.\\r      1\n",
      "9               JetBlue Airways\\r     94\n",
      "10       Southwest Airlines Co.\\r      5\n",
      "11              US Airways Inc.\\r     21\n",
      "12        United Air Lines Inc.\\r     91\n",
      "13               Virgin America\\r     12\n"
     ]
    }
   ],
   "source": [
    "df11=df.groupby('name')['Arrival Delay'].apply(lambda x: (x<= 0).sum()).reset_index(name='count')\n",
    "print(df11)"
   ]
  },
  {
   "cell_type": "markdown",
   "id": "a962e2b4",
   "metadata": {},
   "source": [
    "<h1> Show count of all flights from all airlines not on time.</h1>"
   ]
  },
  {
   "cell_type": "code",
   "execution_count": 32,
   "id": "bd6ca488",
   "metadata": {},
   "outputs": [
    {
     "name": "stdout",
     "output_type": "stream",
     "text": [
      "                             name  count\n",
      "0   AirTran Airways Corporation\\r     10\n",
      "1          Alaska Airlines Inc.\\r      0\n",
      "2        American Airlines Inc.\\r     65\n",
      "3          Delta Air Lines Inc.\\r     41\n",
      "4             Endeavor Air Inc.\\r     15\n",
      "5                     Envoy Air\\r     60\n",
      "6      ExpressJet Airlines Inc.\\r     89\n",
      "7        Frontier Airlines Inc.\\r      1\n",
      "8        Hawaiian Airlines Inc.\\r      0\n",
      "9               JetBlue Airways\\r     99\n",
      "10       Southwest Airlines Co.\\r     28\n",
      "11              US Airways Inc.\\r     22\n",
      "12        United Air Lines Inc.\\r    109\n",
      "13               Virgin America\\r      2\n"
     ]
    }
   ],
   "source": [
    "df12=df.groupby('name')['Arrival Delay'].apply(lambda x: (x> 0).sum()).reset_index(name='count')\n",
    "print(df12)"
   ]
  },
  {
   "cell_type": "markdown",
   "id": "59f129af",
   "metadata": {},
   "source": [
    "<h1> Show the top ten destination airports with most delays and airline. </h1>"
   ]
  },
  {
   "cell_type": "code",
   "execution_count": 99,
   "id": "f4f11bec",
   "metadata": {},
   "outputs": [
    {
     "name": "stdout",
     "output_type": "stream",
     "text": [
      "                         name                           name.2  delayed\n",
      "6    American Airlines Inc.\\r           Dallas Fort Worth Intl       24\n",
      "178   United Air Lines Inc.\\r               Chicago Ohare Intl       21\n",
      "185   United Air Lines Inc.\\r     George Bush Intercontinental       21\n",
      "172         US Airways Inc.\\r           Charlotte Douglas Intl       17\n",
      "137         JetBlue Airways\\r   Fort Lauderdale Hollywood Intl       14\n",
      "26     Delta Air Lines Inc.\\r  Hartsfield Jackson Atlanta Intl       13\n",
      "166  Southwest Airlines Co.\\r              Chicago Midway Intl       11\n",
      "5    American Airlines Inc.\\r               Chicago Ohare Intl       10\n",
      "13   American Airlines Inc.\\r                       Miami Intl       10\n",
      "148         JetBlue Airways\\r                  Palm Beach Intl       10\n"
     ]
    }
   ],
   "source": [
    "df13=df1.groupby([ 'name','name.2'])['Arrival Delay'].apply(lambda x: (x>0).sum()).reset_index(name='delayed')\n",
    "print(df13.nlargest(10, 'delayed'))"
   ]
  },
  {
   "cell_type": "markdown",
   "id": "c3f6254e",
   "metadata": {},
   "source": [
    "<h1> Show the top ten destination airports with least delays and airline. </h1>"
   ]
  },
  {
   "cell_type": "code",
   "execution_count": 103,
   "id": "5fa5b404",
   "metadata": {},
   "outputs": [
    {
     "name": "stdout",
     "output_type": "stream",
     "text": [
      "                         name                              name.2  on time\n",
      "26     Delta Air Lines Inc.\\r     Hartsfield Jackson Atlanta Intl       16\n",
      "147         JetBlue Airways\\r                        Orlando Intl       15\n",
      "198   United Air Lines Inc.\\r                  San Francisco Intl       15\n",
      "13   American Airlines Inc.\\r                          Miami Intl       14\n",
      "138         JetBlue Airways\\r  General Edward Lawrence Logan Intl       13\n",
      "137         JetBlue Airways\\r      Fort Lauderdale Hollywood Intl       12\n",
      "5    American Airlines Inc.\\r                  Chicago Ohare Intl       10\n",
      "172         US Airways Inc.\\r              Charlotte Douglas Intl       10\n",
      "33     Delta Air Lines Inc.\\r                        Orlando Intl        9\n",
      "81                Envoy Air\\r                 Raleigh Durham Intl        9\n"
     ]
    }
   ],
   "source": [
    "df13=df1.groupby([ 'name','name.2'])['Arrival Delay'].apply(lambda x: (x<=0).sum()).reset_index(name='on time')\n",
    "print(df13.nlargest(10, 'on time'))"
   ]
  },
  {
   "cell_type": "markdown",
   "id": "bf2dfbdc",
   "metadata": {},
   "source": [
    "<h1> Conclusion: Delta Airlines had most flights on time. United Airlines had most delayed flights. Dallas Fortworth airport had the most delays with American Airlines. Delta Air Lines had the most on time flights on Hartsfield Jackson Atlanta Intl.</h1>"
   ]
  },
  {
   "cell_type": "code",
   "execution_count": null,
   "id": "6b97df92",
   "metadata": {},
   "outputs": [],
   "source": []
  }
 ],
 "metadata": {
  "kernelspec": {
   "display_name": "Python 3 (ipykernel)",
   "language": "python",
   "name": "python3"
  },
  "language_info": {
   "codemirror_mode": {
    "name": "ipython",
    "version": 3
   },
   "file_extension": ".py",
   "mimetype": "text/x-python",
   "name": "python",
   "nbconvert_exporter": "python",
   "pygments_lexer": "ipython3",
   "version": "3.11.5"
  }
 },
 "nbformat": 4,
 "nbformat_minor": 5
}
