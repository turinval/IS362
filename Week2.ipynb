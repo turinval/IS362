{
 "cells": [
  {
   "cell_type": "markdown",
   "id": "9aaffb1f-07f0-40ef-86fc-2f3623aae1eb",
   "metadata": {},
   "source": [
    "<h1> Data structures with zip and comprehensions<h1>\n",
    "<h2>Using the weather table from flights database to use zip and list comprehension.<h2>\n",
    "<h3>Starting with importing datetime library to convert the weather fields: (airport, year, month, day, hour) \n",
    "into lists. Only ten used for this example.<h3>"
   ]
  },
  {
   "cell_type": "code",
   "execution_count": 79,
   "id": "a1530cff-e428-4f71-9987-a66c281dec77",
   "metadata": {
    "tags": []
   },
   "outputs": [
    {
     "name": "stdout",
     "output_type": "stream",
     "text": [
      "0 EWR 2013-01-01 00:00:00 10.35702\n",
      "1 EWR 2013-01-01 01:00:00 13.80936\n",
      "2 EWR 2013-01-01 02:00:00 12.65858\n",
      "3 EWR 2013-01-01 03:00:00 13.80936\n",
      "4 EWR 2013-01-01 04:00:00 14.96014\n",
      "5 EWR 2013-01-01 06:00:00 10.35702\n",
      "6 EWR 2013-01-01 07:00:00 8.05546\n",
      "7 EWR 2013-01-01 08:00:00 11.5078\n",
      "8 EWR 2013-01-01 09:00:00 12.65858\n",
      "9 EWR 2013-01-01 10:00:00 12.65858\n"
     ]
    }
   ],
   "source": [
    "import datetime \n",
    "#Speed is from the weather.csv table. First ten to show example of zip and list comprehension.\n",
    "speed= [10.35702, 13.80936, 12.65858, 13.80936, 14.96014, 10.35702, 8.05546, 11.5078, 12.65858, 12.65858]\n",
    "#airport is EWR for the first ten rows of weather.csv.\n",
    "airport= \"EWR\"\n",
    "#Using DateTime to show the first ten rows in the DateTime format rather than numbers in a column. \n",
    "x1= datetime.datetime(2013, 1, 1, 0,0,0,0)\n",
    "x2= datetime.datetime(2013,1,1,1,0,0,0)\n",
    "x3= datetime.datetime(2013,1,1,2,0,0,0)\n",
    "x4= datetime.datetime(2013,1,1,3,0,0,0)\n",
    "x5= datetime.datetime(2013,1,1,4,0,0,0)\n",
    "x6= datetime.datetime(2013,1,1,6,0,0,0)\n",
    "x7= datetime.datetime(2013,1,1,7,0,0,0)\n",
    "x8= datetime.datetime(2013,1,1,8,0,0,0)\n",
    "x9= datetime.datetime(2013,1,1,9,0,0,0)\n",
    "x10= datetime.datetime(2013,1,1,10,0,0,0)\n",
    "#List the first ten dates with hour in the dates var below.\n",
    "dates=[x1,x2,x3,x4,x5,x6,x7,x8,x9,x10]\n",
    "#Create a list using the zip function. \n",
    "for i, (speed, dates) in enumerate(zip(speed,dates)):\n",
    "    print(i, airport, dates, speed)\n",
    "    \n",
    "\n"
   ]
  },
  {
   "cell_type": "markdown",
   "id": "dfaddb7a-82b6-4bd3-8914-af2a645086f7",
   "metadata": {},
   "source": [
    "<h1>Find the average of speed using list comprehension.<h1> \n",
    "<div class= \"alert alert-block alert-info\">\n",
    "    <b>The challenge to list comprehensions is finding the counter and index and data type. Its like dominoes rather than a excel sheet.</b>\n",
    "    </div>\n",
    "<h2>Float is not iterable or subscriptable. So the easiest way around is functions. For example Average.<h2>"
   ]
  },
  {
   "cell_type": "code",
   "execution_count": 75,
   "id": "49d9fe92-7b6f-4095-bd1a-71a2a12ab6d6",
   "metadata": {
    "tags": []
   },
   "outputs": [
    {
     "name": "stdout",
     "output_type": "stream",
     "text": [
      "<class 'list'>\n",
      "Average of speed is  12.08319\n",
      "[20.71404, 27.61872, 25.31716, 27.61872, 29.92028, 20.71404, 16.11092, 23.0156, 25.31716, 25.31716]\n"
     ]
    }
   ],
   "source": [
    "\n",
    "speed= [10.35702, 13.80936, 12.65858, 13.80936, 14.96014, 10.35702, 8.05546, 11.5078, 12.65858, 12.65858]\n",
    "print(type(speed))\n",
    "def Average(speed):\n",
    "    return sum(speed)/ len(speed)\n",
    "\n",
    "print(\"Average of speed is \",Average(speed))\n",
    "\n",
    "#Regular loops will work with list comprehensions\n",
    "loop=[x*2 for x in speed]\n",
    "print(loop)"
   ]
  },
  {
   "cell_type": "markdown",
   "id": "a33b340d-0c9e-4e8a-9a93-cdc5da658b61",
   "metadata": {},
   "source": [
    "<h1> What is enumerate? <h1>"
   ]
  },
  {
   "cell_type": "code",
   "execution_count": 87,
   "id": "86bf1914-9d0d-414c-81c2-4337659eafd6",
   "metadata": {
    "tags": []
   },
   "outputs": [
    {
     "name": "stdout",
     "output_type": "stream",
     "text": [
      "2013-01-01 00:00:00\n",
      "2013-01-01 01:00:00\n",
      "2013-01-01 02:00:00\n",
      "2013-01-01 03:00:00\n",
      "2013-01-01 04:00:00\n",
      "2013-01-01 06:00:00\n",
      "2013-01-01 07:00:00\n",
      "2013-01-01 08:00:00\n",
      "2013-01-01 09:00:00\n",
      "2013-01-01 10:00:00\n",
      "1 2013-01-01 01:00:00\n",
      "3 2013-01-01 03:00:00\n",
      "5 2013-01-01 06:00:00\n",
      "7 2013-01-01 08:00:00\n",
      "9 2013-01-01 10:00:00\n"
     ]
    }
   ],
   "source": [
    "x1= datetime.datetime(2013, 1, 1, 0,0,0,0)\n",
    "x2= datetime.datetime(2013,1,1,1,0,0,0)\n",
    "x3= datetime.datetime(2013,1,1,2,0,0,0)\n",
    "x4= datetime.datetime(2013,1,1,3,0,0,0)\n",
    "x5= datetime.datetime(2013,1,1,4,0,0,0)\n",
    "x6= datetime.datetime(2013,1,1,6,0,0,0)\n",
    "x7= datetime.datetime(2013,1,1,7,0,0,0)\n",
    "x8= datetime.datetime(2013,1,1,8,0,0,0)\n",
    "x9= datetime.datetime(2013,1,1,9,0,0,0)\n",
    "x10= datetime.datetime(2013,1,1,10,0,0,0)\n",
    "#List the first ten dates with hour in the dates var below.\n",
    "dates=[x1,x2,x3,x4,x5,x6,x7,x8,x9,x10]\n",
    "\n",
    "for i in dates:\n",
    "    print (i)\n",
    "    \n",
    "for count, date in enumerate(dates):\n",
    "    if count %2: \n",
    "        if date is not None:\n",
    "            print(count, date)"
   ]
  },
  {
   "cell_type": "code",
   "execution_count": null,
   "id": "9530a17a-77b3-4817-9b2f-e6d33a1bc125",
   "metadata": {},
   "outputs": [],
   "source": []
  }
 ],
 "metadata": {
  "kernelspec": {
   "display_name": "Python 3 (ipykernel)",
   "language": "python",
   "name": "python3"
  },
  "language_info": {
   "codemirror_mode": {
    "name": "ipython",
    "version": 3
   },
   "file_extension": ".py",
   "mimetype": "text/x-python",
   "name": "python",
   "nbconvert_exporter": "python",
   "pygments_lexer": "ipython3",
   "version": "3.11.5"
  }
 },
 "nbformat": 4,
 "nbformat_minor": 5
}
